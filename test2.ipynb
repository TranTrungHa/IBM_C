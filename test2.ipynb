{
 "cells": [
  {
   "cell_type": "markdown",
   "metadata": {
    "collapsed": true
   },
   "source": [
    "# My Jupyter Notebook on IBM Watson Studio"
   ]
  },
  {
   "cell_type": "markdown",
   "metadata": {},
   "source": [
    "**Trần Trung Hà**  \n",
    "<Enter>\n",
    "i want to be a data scientist"
   ]
  },
  {
   "cell_type": "markdown",
   "metadata": {},
   "source": [
    "*I am interested in data science because it make think about why i love data science.*\n",
    "<Enter>\n",
    "    \n",
    "*So why I love data science ? the answer is on the first line.*\n",
    "<Enter>\n",
    "    \n",
    "*Seriously mannnn !!!*"
   ]
  },
  {
   "cell_type": "markdown",
   "metadata": {},
   "source": [
    "### My code is to print out my name !"
   ]
  },
  {
   "cell_type": "code",
   "execution_count": 1,
   "metadata": {},
   "outputs": [
    {
     "name": "stdout",
     "output_type": "stream",
     "text": [
      "Trần Trung Hà\n"
     ]
    }
   ],
   "source": [
    "print(\"Trần Trung Hà\")"
   ]
  },
  {
   "cell_type": "markdown",
   "metadata": {},
   "source": [
    "Table Table\n",
    "| Income        | Are           |\n",
    "| ------------- |:-------------:|\n",
    "| 10,000,000    | low           |\n",
    "| 20,000,000    | centered      |\n",
    "| 50,000,000    | rich-kid      |\n",
    "\n",
    "---\n",
    "\n",
    "[Need google ? I'm here](https://www.google.com)\n",
    "\n",
    "---\n",
    "\n",
    "* No love\n",
    "* No money\n",
    "* No hot\n",
    "* Nobody\n",
    "\n",
    "\n",
    "> Unknown cat said: \"meow meow meow meow, meow, meow meow !!\""
   ]
  }
 ],
 "metadata": {
  "kernelspec": {
   "display_name": "Python 3.9",
   "language": "python",
   "name": "python3"
  },
  "language_info": {
   "codemirror_mode": {
    "name": "ipython",
    "version": 3
   },
   "file_extension": ".py",
   "mimetype": "text/x-python",
   "name": "python",
   "nbconvert_exporter": "python",
   "pygments_lexer": "ipython3",
   "version": "3.9.12"
  }
 },
 "nbformat": 4,
 "nbformat_minor": 1
}
